{
  "nbformat": 4,
  "nbformat_minor": 0,
  "metadata": {
    "colab": {
      "provenance": []
    },
    "kernelspec": {
      "name": "python3",
      "display_name": "Python 3"
    },
    "language_info": {
      "name": "python"
    }
  },
  "cells": [
    {
      "cell_type": "code",
      "execution_count": null,
      "metadata": {
        "colab": {
          "base_uri": "https://localhost:8080/"
        },
        "id": "HGTDTaz-iqBf",
        "outputId": "eb6d0a07-13bc-4057-c250-62e0441bd891"
      },
      "outputs": [
        {
          "output_type": "stream",
          "name": "stdout",
          "text": [
            "Collecting wooldridge\n",
            "  Downloading wooldridge-0.4.4-py3-none-any.whl (5.1 MB)\n",
            "\u001b[2K     \u001b[90m━━━━━━━━━━━━━━━━━━━━━━━━━━━━━━━━━━━━━━━━\u001b[0m \u001b[32m5.1/5.1 MB\u001b[0m \u001b[31m24.2 MB/s\u001b[0m eta \u001b[36m0:00:00\u001b[0m\n",
            "\u001b[?25hRequirement already satisfied: pandas in /usr/local/lib/python3.10/dist-packages (from wooldridge) (1.5.3)\n",
            "Requirement already satisfied: python-dateutil>=2.8.1 in /usr/local/lib/python3.10/dist-packages (from pandas->wooldridge) (2.8.2)\n",
            "Requirement already satisfied: pytz>=2020.1 in /usr/local/lib/python3.10/dist-packages (from pandas->wooldridge) (2023.3)\n",
            "Requirement already satisfied: numpy>=1.21.0 in /usr/local/lib/python3.10/dist-packages (from pandas->wooldridge) (1.23.5)\n",
            "Requirement already satisfied: six>=1.5 in /usr/local/lib/python3.10/dist-packages (from python-dateutil>=2.8.1->pandas->wooldridge) (1.16.0)\n",
            "Installing collected packages: wooldridge\n",
            "Successfully installed wooldridge-0.4.4\n"
          ]
        }
      ],
      "source": [
        "!pip install wooldridge"
      ]
    },
    {
      "cell_type": "code",
      "source": [
        "import pandas as pd\n",
        "import numpy as np\n",
        "import seaborn as sns\n",
        "import matplotlib.pyplot as plt\n",
        "import statsmodels.formula.api as smf\n",
        "import wooldridge as woo"
      ],
      "metadata": {
        "id": "-8x5VhfLkCQD"
      },
      "execution_count": null,
      "outputs": []
    },
    {
      "cell_type": "code",
      "source": [
        "price = woo.dataWoo('hprice2')"
      ],
      "metadata": {
        "id": "K_2xJdkEkbcU"
      },
      "execution_count": null,
      "outputs": []
    },
    {
      "cell_type": "code",
      "source": [
        "price.info()"
      ],
      "metadata": {
        "colab": {
          "base_uri": "https://localhost:8080/"
        },
        "id": "lXJJjcw6lffJ",
        "outputId": "8dc974e8-f4f9-4c70-b82b-d4e8a8a3c2df"
      },
      "execution_count": null,
      "outputs": [
        {
          "output_type": "stream",
          "name": "stdout",
          "text": [
            "<class 'pandas.core.frame.DataFrame'>\n",
            "RangeIndex: 506 entries, 0 to 505\n",
            "Data columns (total 12 columns):\n",
            " #   Column    Non-Null Count  Dtype  \n",
            "---  ------    --------------  -----  \n",
            " 0   price     506 non-null    float64\n",
            " 1   crime     506 non-null    float64\n",
            " 2   nox       506 non-null    float64\n",
            " 3   rooms     506 non-null    float64\n",
            " 4   dist      506 non-null    float64\n",
            " 5   radial    506 non-null    int64  \n",
            " 6   proptax   506 non-null    float64\n",
            " 7   stratio   506 non-null    float64\n",
            " 8   lowstat   506 non-null    float64\n",
            " 9   lprice    506 non-null    float64\n",
            " 10  lnox      506 non-null    float64\n",
            " 11  lproptax  506 non-null    float64\n",
            "dtypes: float64(11), int64(1)\n",
            "memory usage: 47.6 KB\n"
          ]
        }
      ]
    },
    {
      "cell_type": "code",
      "source": [
        "price.head()"
      ],
      "metadata": {
        "colab": {
          "base_uri": "https://localhost:8080/",
          "height": 226
        },
        "id": "LRCrqXM6latp",
        "outputId": "4d9a40dd-90ec-403f-de3f-8f2ffbd242b2"
      },
      "execution_count": null,
      "outputs": [
        {
          "output_type": "execute_result",
          "data": {
            "text/plain": [
              "     price  crime   nox  rooms  dist  radial    proptax    stratio  lowstat  \\\n",
              "0  24000.0  0.006  5.38   6.57  4.09       1  29.600000  15.300000     4.98   \n",
              "1  21599.0  0.027  4.69   6.42  4.97       2  24.200001  17.799999     9.14   \n",
              "2  34700.0  0.027  4.69   7.18  4.97       2  24.200001  17.799999     4.03   \n",
              "3  33400.0  0.032  4.58   7.00  6.06       3  22.200001  18.700001     2.94   \n",
              "4  36199.0  0.069  4.58   7.15  6.06       3  22.200001  18.700001     5.33   \n",
              "\n",
              "      lprice      lnox  lproptax  \n",
              "0  10.085809  1.682688  5.690360  \n",
              "1   9.980402  1.545433  5.488938  \n",
              "2  10.454495  1.545433  5.488938  \n",
              "3  10.416311  1.521699  5.402678  \n",
              "4  10.496787  1.521699  5.402678  "
            ],
            "text/html": [
              "\n",
              "  <div id=\"df-6e410a4e-3b47-4a76-ab87-aefc67dd9679\" class=\"colab-df-container\">\n",
              "    <div>\n",
              "<style scoped>\n",
              "    .dataframe tbody tr th:only-of-type {\n",
              "        vertical-align: middle;\n",
              "    }\n",
              "\n",
              "    .dataframe tbody tr th {\n",
              "        vertical-align: top;\n",
              "    }\n",
              "\n",
              "    .dataframe thead th {\n",
              "        text-align: right;\n",
              "    }\n",
              "</style>\n",
              "<table border=\"1\" class=\"dataframe\">\n",
              "  <thead>\n",
              "    <tr style=\"text-align: right;\">\n",
              "      <th></th>\n",
              "      <th>price</th>\n",
              "      <th>crime</th>\n",
              "      <th>nox</th>\n",
              "      <th>rooms</th>\n",
              "      <th>dist</th>\n",
              "      <th>radial</th>\n",
              "      <th>proptax</th>\n",
              "      <th>stratio</th>\n",
              "      <th>lowstat</th>\n",
              "      <th>lprice</th>\n",
              "      <th>lnox</th>\n",
              "      <th>lproptax</th>\n",
              "    </tr>\n",
              "  </thead>\n",
              "  <tbody>\n",
              "    <tr>\n",
              "      <th>0</th>\n",
              "      <td>24000.0</td>\n",
              "      <td>0.006</td>\n",
              "      <td>5.38</td>\n",
              "      <td>6.57</td>\n",
              "      <td>4.09</td>\n",
              "      <td>1</td>\n",
              "      <td>29.600000</td>\n",
              "      <td>15.300000</td>\n",
              "      <td>4.98</td>\n",
              "      <td>10.085809</td>\n",
              "      <td>1.682688</td>\n",
              "      <td>5.690360</td>\n",
              "    </tr>\n",
              "    <tr>\n",
              "      <th>1</th>\n",
              "      <td>21599.0</td>\n",
              "      <td>0.027</td>\n",
              "      <td>4.69</td>\n",
              "      <td>6.42</td>\n",
              "      <td>4.97</td>\n",
              "      <td>2</td>\n",
              "      <td>24.200001</td>\n",
              "      <td>17.799999</td>\n",
              "      <td>9.14</td>\n",
              "      <td>9.980402</td>\n",
              "      <td>1.545433</td>\n",
              "      <td>5.488938</td>\n",
              "    </tr>\n",
              "    <tr>\n",
              "      <th>2</th>\n",
              "      <td>34700.0</td>\n",
              "      <td>0.027</td>\n",
              "      <td>4.69</td>\n",
              "      <td>7.18</td>\n",
              "      <td>4.97</td>\n",
              "      <td>2</td>\n",
              "      <td>24.200001</td>\n",
              "      <td>17.799999</td>\n",
              "      <td>4.03</td>\n",
              "      <td>10.454495</td>\n",
              "      <td>1.545433</td>\n",
              "      <td>5.488938</td>\n",
              "    </tr>\n",
              "    <tr>\n",
              "      <th>3</th>\n",
              "      <td>33400.0</td>\n",
              "      <td>0.032</td>\n",
              "      <td>4.58</td>\n",
              "      <td>7.00</td>\n",
              "      <td>6.06</td>\n",
              "      <td>3</td>\n",
              "      <td>22.200001</td>\n",
              "      <td>18.700001</td>\n",
              "      <td>2.94</td>\n",
              "      <td>10.416311</td>\n",
              "      <td>1.521699</td>\n",
              "      <td>5.402678</td>\n",
              "    </tr>\n",
              "    <tr>\n",
              "      <th>4</th>\n",
              "      <td>36199.0</td>\n",
              "      <td>0.069</td>\n",
              "      <td>4.58</td>\n",
              "      <td>7.15</td>\n",
              "      <td>6.06</td>\n",
              "      <td>3</td>\n",
              "      <td>22.200001</td>\n",
              "      <td>18.700001</td>\n",
              "      <td>5.33</td>\n",
              "      <td>10.496787</td>\n",
              "      <td>1.521699</td>\n",
              "      <td>5.402678</td>\n",
              "    </tr>\n",
              "  </tbody>\n",
              "</table>\n",
              "</div>\n",
              "    <div class=\"colab-df-buttons\">\n",
              "\n",
              "  <div class=\"colab-df-container\">\n",
              "    <button class=\"colab-df-convert\" onclick=\"convertToInteractive('df-6e410a4e-3b47-4a76-ab87-aefc67dd9679')\"\n",
              "            title=\"Convert this dataframe to an interactive table.\"\n",
              "            style=\"display:none;\">\n",
              "\n",
              "  <svg xmlns=\"http://www.w3.org/2000/svg\" height=\"24px\" viewBox=\"0 -960 960 960\">\n",
              "    <path d=\"M120-120v-720h720v720H120Zm60-500h600v-160H180v160Zm220 220h160v-160H400v160Zm0 220h160v-160H400v160ZM180-400h160v-160H180v160Zm440 0h160v-160H620v160ZM180-180h160v-160H180v160Zm440 0h160v-160H620v160Z\"/>\n",
              "  </svg>\n",
              "    </button>\n",
              "\n",
              "  <style>\n",
              "    .colab-df-container {\n",
              "      display:flex;\n",
              "      gap: 12px;\n",
              "    }\n",
              "\n",
              "    .colab-df-convert {\n",
              "      background-color: #E8F0FE;\n",
              "      border: none;\n",
              "      border-radius: 50%;\n",
              "      cursor: pointer;\n",
              "      display: none;\n",
              "      fill: #1967D2;\n",
              "      height: 32px;\n",
              "      padding: 0 0 0 0;\n",
              "      width: 32px;\n",
              "    }\n",
              "\n",
              "    .colab-df-convert:hover {\n",
              "      background-color: #E2EBFA;\n",
              "      box-shadow: 0px 1px 2px rgba(60, 64, 67, 0.3), 0px 1px 3px 1px rgba(60, 64, 67, 0.15);\n",
              "      fill: #174EA6;\n",
              "    }\n",
              "\n",
              "    .colab-df-buttons div {\n",
              "      margin-bottom: 4px;\n",
              "    }\n",
              "\n",
              "    [theme=dark] .colab-df-convert {\n",
              "      background-color: #3B4455;\n",
              "      fill: #D2E3FC;\n",
              "    }\n",
              "\n",
              "    [theme=dark] .colab-df-convert:hover {\n",
              "      background-color: #434B5C;\n",
              "      box-shadow: 0px 1px 3px 1px rgba(0, 0, 0, 0.15);\n",
              "      filter: drop-shadow(0px 1px 2px rgba(0, 0, 0, 0.3));\n",
              "      fill: #FFFFFF;\n",
              "    }\n",
              "  </style>\n",
              "\n",
              "    <script>\n",
              "      const buttonEl =\n",
              "        document.querySelector('#df-6e410a4e-3b47-4a76-ab87-aefc67dd9679 button.colab-df-convert');\n",
              "      buttonEl.style.display =\n",
              "        google.colab.kernel.accessAllowed ? 'block' : 'none';\n",
              "\n",
              "      async function convertToInteractive(key) {\n",
              "        const element = document.querySelector('#df-6e410a4e-3b47-4a76-ab87-aefc67dd9679');\n",
              "        const dataTable =\n",
              "          await google.colab.kernel.invokeFunction('convertToInteractive',\n",
              "                                                    [key], {});\n",
              "        if (!dataTable) return;\n",
              "\n",
              "        const docLinkHtml = 'Like what you see? Visit the ' +\n",
              "          '<a target=\"_blank\" href=https://colab.research.google.com/notebooks/data_table.ipynb>data table notebook</a>'\n",
              "          + ' to learn more about interactive tables.';\n",
              "        element.innerHTML = '';\n",
              "        dataTable['output_type'] = 'display_data';\n",
              "        await google.colab.output.renderOutput(dataTable, element);\n",
              "        const docLink = document.createElement('div');\n",
              "        docLink.innerHTML = docLinkHtml;\n",
              "        element.appendChild(docLink);\n",
              "      }\n",
              "    </script>\n",
              "  </div>\n",
              "\n",
              "\n",
              "<div id=\"df-4128288c-b422-4b6b-bfde-5cc1617313b8\">\n",
              "  <button class=\"colab-df-quickchart\" onclick=\"quickchart('df-4128288c-b422-4b6b-bfde-5cc1617313b8')\"\n",
              "            title=\"Suggest charts.\"\n",
              "            style=\"display:none;\">\n",
              "\n",
              "<svg xmlns=\"http://www.w3.org/2000/svg\" height=\"24px\"viewBox=\"0 0 24 24\"\n",
              "     width=\"24px\">\n",
              "    <g>\n",
              "        <path d=\"M19 3H5c-1.1 0-2 .9-2 2v14c0 1.1.9 2 2 2h14c1.1 0 2-.9 2-2V5c0-1.1-.9-2-2-2zM9 17H7v-7h2v7zm4 0h-2V7h2v10zm4 0h-2v-4h2v4z\"/>\n",
              "    </g>\n",
              "</svg>\n",
              "  </button>\n",
              "\n",
              "<style>\n",
              "  .colab-df-quickchart {\n",
              "    background-color: #E8F0FE;\n",
              "    border: none;\n",
              "    border-radius: 50%;\n",
              "    cursor: pointer;\n",
              "    display: none;\n",
              "    fill: #1967D2;\n",
              "    height: 32px;\n",
              "    padding: 0 0 0 0;\n",
              "    width: 32px;\n",
              "  }\n",
              "\n",
              "  .colab-df-quickchart:hover {\n",
              "    background-color: #E2EBFA;\n",
              "    box-shadow: 0px 1px 2px rgba(60, 64, 67, 0.3), 0px 1px 3px 1px rgba(60, 64, 67, 0.15);\n",
              "    fill: #174EA6;\n",
              "  }\n",
              "\n",
              "  [theme=dark] .colab-df-quickchart {\n",
              "    background-color: #3B4455;\n",
              "    fill: #D2E3FC;\n",
              "  }\n",
              "\n",
              "  [theme=dark] .colab-df-quickchart:hover {\n",
              "    background-color: #434B5C;\n",
              "    box-shadow: 0px 1px 3px 1px rgba(0, 0, 0, 0.15);\n",
              "    filter: drop-shadow(0px 1px 2px rgba(0, 0, 0, 0.3));\n",
              "    fill: #FFFFFF;\n",
              "  }\n",
              "</style>\n",
              "\n",
              "  <script>\n",
              "    async function quickchart(key) {\n",
              "      const charts = await google.colab.kernel.invokeFunction(\n",
              "          'suggestCharts', [key], {});\n",
              "    }\n",
              "    (() => {\n",
              "      let quickchartButtonEl =\n",
              "        document.querySelector('#df-4128288c-b422-4b6b-bfde-5cc1617313b8 button');\n",
              "      quickchartButtonEl.style.display =\n",
              "        google.colab.kernel.accessAllowed ? 'block' : 'none';\n",
              "    })();\n",
              "  </script>\n",
              "</div>\n",
              "    </div>\n",
              "  </div>\n"
            ]
          },
          "metadata": {},
          "execution_count": 32
        }
      ]
    },
    {
      "cell_type": "code",
      "source": [
        "y = price['price']\n",
        "x = price['rooms']\n",
        "# price (y) é uma variável dependente, enquanto rooms (x) é uma variável independente. Isso porque queremos saber se o preço de um imóvel aumenta de acordo com a quantidade de quartos,\n",
        "# ou seja, a variável preço (y) depende da variável rooms (x)."
      ],
      "metadata": {
        "id": "Ue3P5tfuoP1e"
      },
      "execution_count": null,
      "outputs": []
    },
    {
      "cell_type": "code",
      "source": [
        "y.hist()"
      ],
      "metadata": {
        "colab": {
          "base_uri": "https://localhost:8080/",
          "height": 447
        },
        "id": "N9pBF-8BnIHA",
        "outputId": "efe68959-b6fb-44e4-e65a-bddfaf0d46d0"
      },
      "execution_count": null,
      "outputs": [
        {
          "output_type": "execute_result",
          "data": {
            "text/plain": [
              "<Axes: >"
            ]
          },
          "metadata": {},
          "execution_count": 34
        },
        {
          "output_type": "display_data",
          "data": {
            "text/plain": [
              "<Figure size 640x480 with 1 Axes>"
            ],
            "image/png": "[encoded data removed]"
          },
          "metadata": {}
        }
      ]
    },
    {
      "cell_type": "code",
      "source": [
        "sns.jointplot(data=price, x= 'rooms', y = 'price', kind='reg')"
      ],
      "metadata": {
        "colab": {
          "base_uri": "https://localhost:8080/",
          "height": 624
        },
        "id": "qJe-ttDenNhw",
        "outputId": "67ad5dbf-d1b5-455a-f561-b906e4d584ab"
      },
      "execution_count": null,
      "outputs": [
        {
          "output_type": "execute_result",
          "data": {
            "text/plain": [
              "<seaborn.axisgrid.JointGrid at 0x7a77fec8b760>"
            ]
          },
          "metadata": {},
          "execution_count": 35
        },
        {
          "output_type": "display_data",
          "data": {
            "text/plain": [
              "<Figure size 600x600 with 3 Axes>"
            ],
            "image/png": "[encoded data removed]"
          },
          "metadata": {}
        }
      ]
    },
    {
      "cell_type": "code",
      "source": [
        "sns.boxplot(x)"
      ],
      "metadata": {
        "colab": {
          "base_uri": "https://localhost:8080/",
          "height": 450
        },
        "id": "UCmdKTkZo-9p",
        "outputId": "ccedef44-6eed-4de2-aebc-b1928aaf5548"
      },
      "execution_count": null,
      "outputs": [
        {
          "output_type": "execute_result",
          "data": {
            "text/plain": [
              "<Axes: >"
            ]
          },
          "metadata": {},
          "execution_count": 36
        },
        {
          "output_type": "display_data",
          "data": {
            "text/plain": [
              "<Figure size 640x480 with 1 Axes>"
            ],
            "image/png": "[encoded data removed]"
          },
          "metadata": {}
        }
      ]
    },
    {
      "cell_type": "code",
      "source": [
        "reg = smf.ols(formula= 'price ~ rooms', data=price)\n",
        "result1 = reg.fit()\n",
        "result1.params"
      ],
      "metadata": {
        "colab": {
          "base_uri": "https://localhost:8080/"
        },
        "id": "z_FVlAoUppy7",
        "outputId": "a98d72c1-bf9c-42ee-9308-fc8fbd096bfd"
      },
      "execution_count": null,
      "outputs": [
        {
          "output_type": "execute_result",
          "data": {
            "text/plain": [
              "Intercept   -34796.200147\n",
              "rooms         9119.548290\n",
              "dtype: float64"
            ]
          },
          "metadata": {},
          "execution_count": 38
        }
      ]
    },
    {
      "cell_type": "code",
      "source": [
        "b0 =  -34796.200147\n",
        "b1 = 9119.548290"
      ],
      "metadata": {
        "id": "ZXpYE-bQrQTi"
      },
      "execution_count": null,
      "outputs": []
    },
    {
      "cell_type": "markdown",
      "source": [
        "**TESTES DO MODELO**\n",
        "\n",
        "\n",
        "\n"
      ],
      "metadata": {
        "id": "LPRxkXy3suyh"
      }
    },
    {
      "cell_type": "code",
      "source": [
        "#teste 1\n",
        "x = 20\n",
        "y = b0 + b1 * x\n",
        "y"
      ],
      "metadata": {
        "colab": {
          "base_uri": "https://localhost:8080/"
        },
        "id": "IBZmdc_mtIE5",
        "outputId": "5c4704c4-90c5-44c0-984a-935c60694a92"
      },
      "execution_count": null,
      "outputs": [
        {
          "output_type": "execute_result",
          "data": {
            "text/plain": [
              "147594.765653"
            ]
          },
          "metadata": {},
          "execution_count": 45
        }
      ]
    },
    {
      "cell_type": "code",
      "source": [
        "#teste 2\n",
        "x = 10\n",
        "y = b0 + b1 * x\n",
        "y"
      ],
      "metadata": {
        "colab": {
          "base_uri": "https://localhost:8080/"
        },
        "id": "sHwp-7MAtmBb",
        "outputId": "5945f281-7861-4d7c-999c-9b8ba8bfc84a"
      },
      "execution_count": null,
      "outputs": [
        {
          "output_type": "execute_result",
          "data": {
            "text/plain": [
              "56399.282753"
            ]
          },
          "metadata": {},
          "execution_count": 47
        }
      ]
    },
    {
      "cell_type": "code",
      "source": [
        "#teste 3\n",
        "x = 2\n",
        "y = y = b0 + b1 * x\n",
        "y"
      ],
      "metadata": {
        "colab": {
          "base_uri": "https://localhost:8080/"
        },
        "id": "WX42mUZVtc0H",
        "outputId": "7a70600d-010b-4a69-c928-7c5b58cae6c0"
      },
      "execution_count": null,
      "outputs": [
        {
          "output_type": "execute_result",
          "data": {
            "text/plain": [
              "-16557.103567000002"
            ]
          },
          "metadata": {},
          "execution_count": 46
        }
      ]
    },
    {
      "cell_type": "markdown",
      "source": [
        "**RESULTADO SOBRE O MODELO**\n",
        "\n",
        "O modelo não é viável, observado a partir do teste em que, se x = 2, y < 0. Analisando os dados, é impossível que uma casa com dois quartos tenha um custo negativo."
      ],
      "metadata": {
        "id": "frf3ddFvtyWb"
      }
    }
  ]
}